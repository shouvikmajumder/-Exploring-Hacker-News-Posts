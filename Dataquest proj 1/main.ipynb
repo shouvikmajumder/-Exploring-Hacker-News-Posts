{
 "cells": [
  {
   "cell_type": "code",
   "execution_count": 74,
   "metadata": {},
   "outputs": [
    {
     "name": "stdout",
     "output_type": "stream",
     "text": [
      "['12579008', 'You have two days to comment if you want stem cells to be classified as your own', 'http://www.regulations.gov/document?D=FDA-2015-D-3719-0018', '1', '0', 'altstar', '9/26/2016 3:26']\n",
      "['12579005', 'SQLAR  the SQLite Archiver', 'https://www.sqlite.org/sqlar/doc/trunk/README.md', '1', '0', 'blacksqr', '9/26/2016 3:24']\n",
      "['12578997', 'What if we just printed a flatscreen television on the side of our boxes?', 'https://medium.com/vanmoof/our-secrets-out-f21c1f03fdc8#.ietxmez43', '1', '0', 'pavel_lishin', '9/26/2016 3:19']\n",
      "['12578989', 'algorithmic music', 'http://cacm.acm.org/magazines/2011/7/109891-algorithmic-composition/fulltext', '1', '0', 'poindontcare', '9/26/2016 3:16']\n",
      "['12578979', 'How the Data Vault Enables the Next-Gen Data Warehouse and Data Lake', 'https://www.talend.com/blog/2016/05/12/talend-and-Â\\x93the-data-vaultÂ\\x94', '1', '0', 'markgainor1', '9/26/2016 3:14']\n"
     ]
    }
   ],
   "source": [
    "import csv\n",
    "hmlst = []\n",
    "with open(\"HN_posts_year_to_Sep_26_2016.csv\", mode ='r')as file:\n",
    "  csvFile = csv.reader(file)\n",
    "  for lines in csvFile:\n",
    "    hmlst.append(lines)\n",
    "    \n",
    "  header = (hmlst[0])\n",
    "  hm = hmlst[1:]\n",
    "  for i in hm[:5]:\n",
    "    print(i)"
   ]
  },
  {
   "cell_type": "code",
   "execution_count": 78,
   "metadata": {},
   "outputs": [],
   "source": [
    "#THESE ARE THE DIFFERNT TYPES OF POSTS \n",
    "ask_posts = []\n",
    "show_posts = []\n",
    "other_posts = []\n",
    "title = None\n",
    "for items in hm: \n",
    "    title = items[1]\n",
    "    if title.lower().startswith('ask hn'): \n",
    "        ask_posts.append(items)\n",
    "    elif title.lower().startswith('show hn'):\n",
    "        show_posts.append(items)\n",
    "    else: \n",
    "        other_posts.append(items)\n"
   ]
  },
  {
   "cell_type": "code",
   "execution_count": 79,
   "metadata": {},
   "outputs": [
    {
     "name": "stdout",
     "output_type": "stream",
     "text": [
      "The total number of comments: 27378\n",
      "Average num of comments per show post: 1.7292774168143334\n"
     ]
    }
   ],
   "source": [
    "# TOTAL COMMENTS\n",
    "total_ask_comments = 0\n",
    "total_show_comments = 0\n",
    "avg_show_comments = 0 \n",
    "\n",
    "\n",
    "for items in ask_posts:\n",
    "    for item in items[4]:\n",
    "        total_ask_comments += int(item)\n",
    "\n",
    "for items in show_posts:\n",
    "    for item in items[4]:\n",
    "        total_show_comments += int(item)\n",
    "\n",
    "avg_show_comments = total_show_comments/len(show_posts)\n",
    "\n",
    "print(f'The total number of comments: {total_ask_comments}')\n",
    "print(f'Average num of comments per show post: {avg_show_comments}')"
   ]
  },
  {
   "cell_type": "code",
   "execution_count": 111,
   "metadata": {},
   "outputs": [
    {
     "name": "stdout",
     "output_type": "stream",
     "text": [
      "Counts by hour: {'02': 269, '01': 282, '22': 383, '21': 518, '19': 552, '17': 587, '15': 646, '14': 513, '13': 444, '11': 312, '10': 282, '09': 222, '07': 226, '03': 271, '23': 343, '20': 510, '16': 579, '08': 257, '00': 301, '18': 614, '12': 342, '04': 243, '06': 234, '05': 209}\n",
      "Comments by hour: {'02': 2996, '01': 2089, '22': 3372, '21': 4500, '19': 3954, '17': 5547, '15': 18525, '14': 4972, '13': 7245, '11': 2797, '10': 3013, '09': 1477, '07': 1585, '03': 2154, '23': 2297, '20': 4462, '16': 4466, '08': 2362, '00': 2277, '18': 4877, '12': 4234, '04': 2360, '06': 1587, '05': 1838}\n"
     ]
    }
   ],
   "source": [
    "import datetime as dt \n",
    "\n",
    "result_list = []\n",
    "\n",
    "for items in ask_posts: \n",
    "    result_list.append([items[6],items[4]])\n",
    "\n",
    "\n",
    "counts_by_hour = {}\n",
    "comments_by_hour = {}\n",
    "\n",
    "for results in result_list:\n",
    "\n",
    "    date_time_str = results[0]\n",
    "    # print(results[0])\n",
    "    date_time_obj = dt.datetime.strptime(date_time_str, \"%m/%d/%Y %H:%M\")\n",
    "    # print(date_time_obj)\n",
    "    hour = date_time_obj.strftime(\"%H\")\n",
    "    \n",
    "    if hour not in counts_by_hour:\n",
    "        counts_by_hour[hour] = 1\n",
    "        comments_by_hour[hour] = int(results[1]) #comment number\n",
    "    elif hour in counts_by_hour:\n",
    "        counts_by_hour[hour] += 1\n",
    "        comments_by_hour[hour] += int(results[1])\n",
    "print(f\"Counts by hour: {counts_by_hour}\")\n",
    "print(f\"Comments by hour: {(comments_by_hour)}\")"
   ]
  },
  {
   "cell_type": "code",
   "execution_count": 115,
   "metadata": {},
   "outputs": [
    {
     "name": "stdout",
     "output_type": "stream",
     "text": [
      "[['02', 11.137546468401487], ['01', 7.407801418439717], ['22', 8.804177545691905], ['21', 8.687258687258687], ['19', 7.163043478260869], ['17', 9.449744463373083], ['15', 28.676470588235293], ['14', 9.692007797270955], ['13', 16.31756756756757], ['11', 8.96474358974359], ['10', 10.684397163120567], ['09', 6.653153153153153], ['07', 7.013274336283186], ['03', 7.948339483394834], ['23', 6.696793002915452], ['20', 8.749019607843136], ['16', 7.713298791018998], ['08', 9.190661478599221], ['00', 7.5647840531561465], ['18', 7.94299674267101], ['12', 12.380116959064328], ['04', 9.7119341563786], ['06', 6.782051282051282], ['05', 8.794258373205741]]\n"
     ]
    }
   ],
   "source": [
    "# Calculating the Average Number of Comments for Ask HN Posts by Hour\n",
    "\n",
    "avg_by_hour = []\n",
    "\n",
    "for key in counts_by_hour:\n",
    "    if key != 0: \n",
    "        avg_by_hour.append([key,(comments_by_hour[key])/(counts_by_hour[key])])\n",
    "\n",
    "print(avg_by_hour)"
   ]
  },
  {
   "cell_type": "code",
   "execution_count": 127,
   "metadata": {},
   "outputs": [
    {
     "name": "stdout",
     "output_type": "stream",
     "text": [
      "15 : 28.68 average comments per post\n",
      "13 : 16.32 average comments per post\n",
      "12 : 12.38 average comments per post\n",
      "02 : 11.14 average comments per post\n",
      "10 : 10.68 average comments per post\n"
     ]
    }
   ],
   "source": [
    "# Sorting and Printing Values from a List of Lists\n",
    "\n",
    "swap_avg_by_hour = []\n",
    "\n",
    "\n",
    "for lst in avg_by_hour:\n",
    "    swap_avg_by_hour.append([lst[1],lst[0]])\n",
    "# print(swap_avg_by_hour)\n",
    "\n",
    "sorted_swap = sorted(swap_avg_by_hour)[::-1] \n",
    "\n",
    "\n",
    "# print(sorted_swap)\n",
    "\n",
    "for lst in sorted_swap[:5]:\n",
    "    print(f\"{lst[1]} : {lst[0]:.2f} average comments per post\")\n",
    "    \n",
    "\n"
   ]
  }
 ],
 "metadata": {
  "kernelspec": {
   "display_name": "Python 3",
   "language": "python",
   "name": "python3"
  },
  "language_info": {
   "codemirror_mode": {
    "name": "ipython",
    "version": 3
   },
   "file_extension": ".py",
   "mimetype": "text/x-python",
   "name": "python",
   "nbconvert_exporter": "python",
   "pygments_lexer": "ipython3",
   "version": "3.12.3"
  }
 },
 "nbformat": 4,
 "nbformat_minor": 2
}
